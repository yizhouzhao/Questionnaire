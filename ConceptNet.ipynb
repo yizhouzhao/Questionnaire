{
 "cells": [
  {
   "cell_type": "code",
   "execution_count": null,
   "metadata": {},
   "outputs": [],
   "source": [
    "import requests"
   ]
  },
  {
   "cell_type": "code",
   "execution_count": null,
   "metadata": {},
   "outputs": [],
   "source": [
    "url_link = \"https://relatedwords.org/relatedto/movie\""
   ]
  },
  {
   "cell_type": "code",
   "execution_count": null,
   "metadata": {},
   "outputs": [],
   "source": [
    "obj = requests.get(url_link)"
   ]
  },
  {
   "cell_type": "code",
   "execution_count": null,
   "metadata": {},
   "outputs": [],
   "source": [
    "obj.text"
   ]
  },
  {
   "cell_type": "code",
   "execution_count": null,
   "metadata": {},
   "outputs": [],
   "source": [
    "import spacy"
   ]
  },
  {
   "cell_type": "code",
   "execution_count": null,
   "metadata": {},
   "outputs": [],
   "source": [
    "nlp =  spacy.load(\"en_core_web_sm\")"
   ]
  },
  {
   "cell_type": "code",
   "execution_count": null,
   "metadata": {},
   "outputs": [],
   "source": [
    "token = nlp(\"rainy\")[0]"
   ]
  },
  {
   "cell_type": "code",
   "execution_count": null,
   "metadata": {},
   "outputs": [],
   "source": [
    "token.pos_"
   ]
  },
  {
   "cell_type": "code",
   "execution_count": null,
   "metadata": {},
   "outputs": [],
   "source": [
    "token.lemma_"
   ]
  },
  {
   "cell_type": "code",
   "execution_count": null,
   "metadata": {},
   "outputs": [],
   "source": [
    "print(\"new\" in nlp.vocab)"
   ]
  },
  {
   "cell_type": "code",
   "execution_count": null,
   "metadata": {},
   "outputs": [],
   "source": []
  },
  {
   "cell_type": "code",
   "execution_count": null,
   "metadata": {
    "scrolled": true
   },
   "outputs": [],
   "source": [
    "generate_questions(\"\",appendix=[\"service\"], max_question_num=20)"
   ]
  },
  {
   "cell_type": "code",
   "execution_count": null,
   "metadata": {},
   "outputs": [],
   "source": []
  },
  {
   "cell_type": "code",
   "execution_count": null,
   "metadata": {
    "scrolled": true
   },
   "outputs": [],
   "source": []
  },
  {
   "cell_type": "code",
   "execution_count": null,
   "metadata": {},
   "outputs": [],
   "source": [
    "for token in doc:\n",
    "    print(token.text, token.pos_, token.dep_)"
   ]
  },
  {
   "cell_type": "code",
   "execution_count": null,
   "metadata": {},
   "outputs": [],
   "source": [
    "tok = doc[2]"
   ]
  },
  {
   "cell_type": "code",
   "execution_count": null,
   "metadata": {},
   "outputs": [],
   "source": [
    "url_link = \"https://api.datamuse.com/words?rel_trg=food&topics=good+quality&md=p\""
   ]
  },
  {
   "cell_type": "code",
   "execution_count": null,
   "metadata": {},
   "outputs": [],
   "source": [
    "obj = requests.get(url_link).json()"
   ]
  },
  {
   "cell_type": "code",
   "execution_count": null,
   "metadata": {},
   "outputs": [],
   "source": [
    "obj"
   ]
  },
  {
   "cell_type": "code",
   "execution_count": 1,
   "metadata": {},
   "outputs": [],
   "source": [
    "from design.questions import *\n",
    "from questions.prior_questions import *"
   ]
  },
  {
   "cell_type": "code",
   "execution_count": 7,
   "metadata": {},
   "outputs": [],
   "source": [
    "prior_question = []\n",
    "for i in range(len(g_movie_piror_keywords)):\n",
    "    word = g_movie_piror_keywords[i]\n",
    "    prior_question.append(generate_one_question(word, \"n\", \"good\"))\n",
    "    prior_question.append(generate_one_question(word, \"n\", \"bad\"))"
   ]
  },
  {
   "cell_type": "code",
   "execution_count": 9,
   "metadata": {},
   "outputs": [
    {
     "data": {
      "text/plain": [
       "'script'"
      ]
     },
     "execution_count": 9,
     "metadata": {},
     "output_type": "execute_result"
    }
   ],
   "source": [
    "word"
   ]
  },
  {
   "cell_type": "code",
   "execution_count": 8,
   "metadata": {},
   "outputs": [
    {
     "data": {
      "text/plain": [
       "['is the text saying anything good about a film?',\n",
       " 'is the text saying anything bad about a film?',\n",
       " 'is the text saying anything good about a movie?',\n",
       " 'is the text saying anything bad about a movie?',\n",
       " 'is the text saying anything good about a projector?',\n",
       " 'is the text saying anything bad about a projector?',\n",
       " 'is the text saying anything good about a soundtrack?',\n",
       " 'is the text saying anything bad about a soundtrack?',\n",
       " 'is the text saying anything good about a picture?',\n",
       " 'is the text saying anything bad about a picture?',\n",
       " 'is the text saying anything good about a cinema?',\n",
       " 'is the text saying anything bad about a cinema?',\n",
       " 'is the text saying anything good about a theater?',\n",
       " 'is the text saying anything bad about a theater?',\n",
       " 'is the text saying anything good about a screenplay?',\n",
       " 'is the text saying anything bad about a screenplay?',\n",
       " 'is the text saying anything good about a director?',\n",
       " 'is the text saying anything bad about a director?',\n",
       " 'is the text saying anything good about an actor?',\n",
       " 'is the text saying anything bad about an actor?',\n",
       " 'is the text saying anything good about a show?',\n",
       " 'is the text saying anything bad about a show?',\n",
       " 'is the text saying anything good about a documentary?',\n",
       " 'is the text saying anything bad about a documentary?',\n",
       " 'is the text saying anything good about a scene?',\n",
       " 'is the text saying anything bad about a scene?',\n",
       " 'is the text saying anything good about a motion?',\n",
       " 'is the text saying anything bad about a motion?',\n",
       " 'is the text saying anything good about a making?',\n",
       " 'is the text saying anything bad about a making?',\n",
       " 'is the text saying anything good about a telefilm?',\n",
       " 'is the text saying anything bad about a telefilm?',\n",
       " 'is the text saying anything good about a book?',\n",
       " 'is the text saying anything bad about a book?',\n",
       " 'is the text saying anything good about an animation?',\n",
       " 'is the text saying anything bad about an animation?',\n",
       " 'is the text saying anything good about a screen?',\n",
       " 'is the text saying anything bad about a screen?',\n",
       " 'is the text saying anything good about a photography?',\n",
       " 'is the text saying anything bad about a photography?',\n",
       " 'is the text saying anything good about a studio?',\n",
       " 'is the text saying anything bad about a studio?',\n",
       " 'is the text saying anything good about a video?',\n",
       " 'is the text saying anything bad about a video?',\n",
       " 'is the text saying anything good about a feature?',\n",
       " 'is the text saying anything bad about a feature?',\n",
       " 'is the text saying anything good about a sound?',\n",
       " 'is the text saying anything bad about a sound?',\n",
       " 'is the text saying anything good about a cinematography?',\n",
       " 'is the text saying anything bad about a cinematography?',\n",
       " 'is the text saying anything good about a story?',\n",
       " 'is the text saying anything bad about a story?',\n",
       " 'is the text saying anything good about a shot?',\n",
       " 'is the text saying anything bad about a shot?',\n",
       " 'is the text saying anything good about a skin?',\n",
       " 'is the text saying anything bad about a skin?',\n",
       " 'is the text saying anything good about an episode?',\n",
       " 'is the text saying anything bad about an episode?',\n",
       " 'is the text saying anything good about a phenomenon?',\n",
       " 'is the text saying anything bad about a phenomenon?',\n",
       " 'is the text saying anything good about a stock?',\n",
       " 'is the text saying anything bad about a stock?',\n",
       " 'is the text saying anything good about a camera?',\n",
       " 'is the text saying anything bad about a camera?',\n",
       " 'is the text saying anything good about a music?',\n",
       " 'is the text saying anything bad about a music?',\n",
       " 'is the text saying anything good about an entertainment?',\n",
       " 'is the text saying anything bad about an entertainment?',\n",
       " 'is the text saying anything good about a video camera?',\n",
       " 'is the text saying anything bad about a video camera?',\n",
       " 'is the text saying anything good about a videotape?',\n",
       " 'is the text saying anything bad about a videotape?',\n",
       " 'is the text saying anything good about a moviedom?',\n",
       " 'is the text saying anything bad about a moviedom?',\n",
       " 'is the text saying anything good about a talkie?',\n",
       " 'is the text saying anything bad about a talkie?',\n",
       " 'is the text saying anything good about a script?',\n",
       " 'is the text saying anything bad about a script?']"
      ]
     },
     "execution_count": 8,
     "metadata": {},
     "output_type": "execute_result"
    }
   ],
   "source": [
    "prior_question"
   ]
  },
  {
   "cell_type": "code",
   "execution_count": 11,
   "metadata": {
    "scrolled": true
   },
   "outputs": [
    {
     "name": "stdout",
     "output_type": "stream",
     "text": [
      "generate questions from link:  https://api.datamuse.com/words?rel_trg=script&topics=&md=p\n"
     ]
    },
    {
     "data": {
      "text/plain": [
       "['is there anything cursive mentioned in the text?',\n",
       " 'is there anything cyrillic mentioned in the text?',\n",
       " 'is the text saying anything good about an alphabet?',\n",
       " 'is the text saying anything bad about an alphabet?',\n",
       " 'is the text saying anything good about an unicode?',\n",
       " 'is the text saying anything bad about an unicode?',\n",
       " 'is the text saying anything good about a rewrite?',\n",
       " 'is the text saying anything bad about a rewrite?',\n",
       " 'is the text saying anything good about a screenplay?',\n",
       " 'is the text saying anything bad about a screenplay?',\n",
       " 'is the text saying anything good about a supervisor?',\n",
       " 'is the text saying anything bad about a supervisor?',\n",
       " 'is the text saying anything good about a filming?',\n",
       " 'is the text saying anything bad about a filming?',\n",
       " 'is the text saying anything good about a sanskrit?',\n",
       " 'is the text saying anything bad about a sanskrit?',\n",
       " 'is the text saying anything good about a screenwriter?',\n",
       " 'is the text saying anything bad about a screenwriter?',\n",
       " 'is there anything arabic mentioned in the text?',\n",
       " 'is the text saying anything good about a dialogue?',\n",
       " 'is the text saying anything bad about a dialogue?']"
      ]
     },
     "execution_count": 11,
     "metadata": {},
     "output_type": "execute_result"
    }
   ],
   "source": [
    "generate_questions(word, source=\"datamuse\", appendix=None, max_question_num=20, question_type=\"good\")"
   ]
  },
  {
   "cell_type": "code",
   "execution_count": null,
   "metadata": {},
   "outputs": [],
   "source": []
  }
 ],
 "metadata": {
  "kernelspec": {
   "display_name": "Python 3",
   "language": "python",
   "name": "python3"
  },
  "language_info": {
   "codemirror_mode": {
    "name": "ipython",
    "version": 3
   },
   "file_extension": ".py",
   "mimetype": "text/x-python",
   "name": "python",
   "nbconvert_exporter": "python",
   "pygments_lexer": "ipython3",
   "version": "3.8.5"
  }
 },
 "nbformat": 4,
 "nbformat_minor": 4
}
