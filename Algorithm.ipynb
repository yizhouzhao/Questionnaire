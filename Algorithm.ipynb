{
 "cells": [
  {
   "cell_type": "code",
   "execution_count": 1,
   "metadata": {},
   "outputs": [],
   "source": [
    "import numpy as np\n",
    "from datasets import list_datasets, load_dataset\n",
    "from numpy import genfromtxt"
   ]
  },
  {
   "cell_type": "code",
   "execution_count": 2,
   "metadata": {},
   "outputs": [],
   "source": [
    "X1 = genfromtxt('record/survey_rotten_tomatoes(train)_basicquestions_unifiedqa-t5-large.csv', delimiter=',')"
   ]
  },
  {
   "cell_type": "code",
   "execution_count": 3,
   "metadata": {},
   "outputs": [],
   "source": [
    "X2 = genfromtxt('record/survey_rotten_tomatoes(train)_moviequestions_unifiedqa-t5-large.csv', delimiter=',')"
   ]
  },
  {
   "cell_type": "code",
   "execution_count": 4,
   "metadata": {},
   "outputs": [],
   "source": [
    "X = np.concatenate((X1, X2), axis=1)"
   ]
  },
  {
   "cell_type": "code",
   "execution_count": 5,
   "metadata": {
    "scrolled": true
   },
   "outputs": [
    {
     "name": "stdout",
     "output_type": "stream",
     "text": [
      "(8530, 19) (8530, 78) (8530, 97)\n"
     ]
    }
   ],
   "source": [
    "print(X1.shape, X2.shape, X.shape)"
   ]
  },
  {
   "cell_type": "code",
   "execution_count": 6,
   "metadata": {},
   "outputs": [
    {
     "name": "stderr",
     "output_type": "stream",
     "text": [
      "Using custom data configuration default\n",
      "Reusing dataset rotten_tomatoes_movie_review (C:\\Users\\Yizhou Zhao\\.cache\\huggingface\\datasets\\rotten_tomatoes_movie_review\\default\\1.0.0\\9198dbc50858df8bdb0d5f18ccaf33125800af96ad8434bc8b829918c987ee8a)\n"
     ]
    }
   ],
   "source": [
    "dataset = load_dataset('rotten_tomatoes', split='train')"
   ]
  },
  {
   "cell_type": "code",
   "execution_count": 7,
   "metadata": {},
   "outputs": [
    {
     "data": {
      "text/plain": [
       "8530"
      ]
     },
     "execution_count": 7,
     "metadata": {},
     "output_type": "execute_result"
    }
   ],
   "source": [
    "len(dataset)"
   ]
  },
  {
   "cell_type": "code",
   "execution_count": 8,
   "metadata": {},
   "outputs": [],
   "source": [
    "y = np.asarray([item['label'] for item in dataset])"
   ]
  },
  {
   "cell_type": "code",
   "execution_count": 9,
   "metadata": {},
   "outputs": [
    {
     "data": {
      "text/plain": [
       "(8530,)"
      ]
     },
     "execution_count": 9,
     "metadata": {},
     "output_type": "execute_result"
    }
   ],
   "source": [
    "y.shape"
   ]
  },
  {
   "cell_type": "code",
   "execution_count": 10,
   "metadata": {},
   "outputs": [],
   "source": [
    "shuffler = np.random.permutation(len(X))\n",
    "X = X[shuffler]\n",
    "y = y[shuffler]\n"
   ]
  },
  {
   "cell_type": "code",
   "execution_count": 11,
   "metadata": {},
   "outputs": [],
   "source": [
    "X_train = X[:1024]\n",
    "y_train = y[:1024]\n",
    "\n",
    "X_test = X[-1024:]\n",
    "y_test = y[-1024:]"
   ]
  },
  {
   "cell_type": "code",
   "execution_count": 12,
   "metadata": {},
   "outputs": [],
   "source": [
    "import xgboost as xgb"
   ]
  },
  {
   "cell_type": "code",
   "execution_count": 13,
   "metadata": {},
   "outputs": [],
   "source": [
    "# use DMatrix for xgbosot\n",
    "dtrain = xgb.DMatrix(X_train, label=y_train)\n",
    "dtest = xgb.DMatrix(X_test, label=y_test)"
   ]
  },
  {
   "cell_type": "code",
   "execution_count": 14,
   "metadata": {},
   "outputs": [],
   "source": [
    "# set xgboost params\n",
    "param = {\n",
    "    'max_depth': 15,  # the maximum depth of each tree\n",
    "    'eta': 0.3,  # the training step for each iteration\n",
    "    'silent': 1,  # logging mode - quiet\n",
    "    'objective': 'multi:softprob',  # error evaluation for multiclass training\n",
    "    'num_class': 2}  # the number of classes that exist in this datset\n",
    "num_round = 20  # the number of training iterations"
   ]
  },
  {
   "cell_type": "code",
   "execution_count": 15,
   "metadata": {},
   "outputs": [
    {
     "name": "stdout",
     "output_type": "stream",
     "text": [
      "[15:37:35] WARNING: C:/Users/Administrator/workspace/xgboost-win64_release_1.3.0/src/learner.cc:541: \n",
      "Parameters: { silent } might not be used.\n",
      "\n",
      "  This may not be accurate due to some parameters are only used in language bindings but\n",
      "  passed down to XGBoost core.  Or some parameters are not used but slip through this\n",
      "  verification. Please open an issue if you find above cases.\n",
      "\n",
      "\n",
      "[15:37:35] WARNING: C:/Users/Administrator/workspace/xgboost-win64_release_1.3.0/src/learner.cc:1061: Starting in XGBoost 1.3.0, the default evaluation metric used with the objective 'multi:softprob' was changed from 'merror' to 'mlogloss'. Explicitly set eval_metric if you'd like to restore the old behavior.\n"
     ]
    }
   ],
   "source": [
    "#------------- numpy array ------------------\n",
    "# training and testing - numpy matrices\n",
    "bst = xgb.train(param, dtrain, num_round)"
   ]
  },
  {
   "cell_type": "code",
   "execution_count": 16,
   "metadata": {},
   "outputs": [],
   "source": [
    "from sklearn.metrics import precision_score"
   ]
  },
  {
   "cell_type": "code",
   "execution_count": 17,
   "metadata": {
    "scrolled": true
   },
   "outputs": [
    {
     "name": "stdout",
     "output_type": "stream",
     "text": [
      "Training Numpy array precision: 0.9631037075597201\n"
     ]
    }
   ],
   "source": [
    "# extracting most confident predictions\n",
    "preds = bst.predict(dtrain)\n",
    "best_preds = np.asarray([np.argmax(line) for line in preds])\n",
    "print(\"Training Numpy array precision:\", precision_score(y_train, best_preds, average='macro'))"
   ]
  },
  {
   "cell_type": "code",
   "execution_count": 18,
   "metadata": {},
   "outputs": [
    {
     "name": "stdout",
     "output_type": "stream",
     "text": [
      "Test Numpy array precision: 0.8397780740876974\n"
     ]
    }
   ],
   "source": [
    "preds = bst.predict(dtest)\n",
    "# extracting most confident predictions\n",
    "best_preds = np.asarray([np.argmax(line) for line in preds])\n",
    "print(\"Test Numpy array precision:\", precision_score(y_test, best_preds, average='macro'))"
   ]
  },
  {
   "cell_type": "code",
   "execution_count": 22,
   "metadata": {},
   "outputs": [
    {
     "name": "stdout",
     "output_type": "stream",
     "text": [
      "f21 f2 f61 f25 f0 f10 f12 f4 Leaf f85 f12 f5 f73 f7 f79 f1 Leaf f51 f27 f17 f14 f27 Leaf f95 Leaf Leaf Leaf f81 f8 f0 f63 f7 Leaf Leaf Leaf f1 Leaf Leaf Leaf f16 f49 f9 Leaf Leaf Leaf f93 f17 f11 f14 f12 f37 f10 f1 f4 f18 Leaf Leaf f0 Leaf f69 f15 Leaf Leaf Leaf Leaf f52 f15 Leaf Leaf f18 f9 Leaf Leaf Leaf Leaf f16 f15 f10 Leaf f35 Leaf Leaf Leaf f15 Leaf f43 Leaf f17 f20 Leaf Leaf f44 f10 Leaf Leaf f14 f5 f11 f9 Leaf Leaf Leaf Leaf Leaf Leaf Leaf Leaf Leaf f10 f34 Leaf f8 Leaf Leaf Leaf f10 Leaf Leaf Leaf f17 f10 f17 f13 Leaf Leaf Leaf Leaf Leaf Leaf f11 Leaf Leaf Leaf Leaf f16 f10 f12 Leaf Leaf Leaf Leaf f73 f17 f5 f16 Leaf Leaf Leaf Leaf f9 Leaf Leaf Leaf f12 Leaf Leaf Leaf f6 Leaf f11 Leaf Leaf Leaf f21 f2 f61 f25 f0 f10 f12 f4 Leaf f85 f12 f5 f73 f7 f79 f1 Leaf f51 f27 f17 f14 f27 Leaf f95 Leaf Leaf Leaf f81 f8 f0 f63 f7 Leaf Leaf Leaf f1 Leaf Leaf Leaf f16 f49 f9 Leaf Leaf Leaf f93 f17 f11 f14 f12 f37 f10 f1 f4 f18 Leaf Leaf f0 Leaf f69 f15 Leaf Leaf Leaf Leaf f52 f15 Leaf Leaf f18 f9 Leaf Leaf Leaf Leaf f16 f15 f10 Leaf f35 Leaf Leaf Leaf f15 Leaf f43 Leaf f17 f20 Leaf Leaf f44 f10 Leaf Leaf f14 f5 f11 f9 Leaf Leaf Leaf Leaf Leaf Leaf Leaf Leaf Leaf f10 f34 Leaf f8 Leaf Leaf Leaf f10 Leaf Leaf Leaf f17 f10 f17 f13 Leaf Leaf Leaf Leaf Leaf Leaf f11 Leaf Leaf Leaf Leaf f16 f10 f12 Leaf Leaf Leaf Leaf f73 f17 f5 f16 Leaf Leaf Leaf Leaf f9 Leaf Leaf Leaf f12 Leaf Leaf Leaf f6 Leaf f11 Leaf Leaf Leaf f21 f2 f10 f25 f0 f45 f0 f1 Leaf f85 f17 f29 f6 f73 f49 f0 f12 f51 f27 f18 f12 f83 f67 f47 f59 f39 f31 f67 f12 f11 f14 f18 f9 f7 Leaf Leaf Leaf f1 Leaf Leaf Leaf f61 f91 Leaf Leaf f41 Leaf Leaf Leaf f51 f4 Leaf Leaf Leaf Leaf f17 f4 f52 f15 Leaf Leaf f63 Leaf f11 Leaf Leaf f34 f10 f35 f35 Leaf Leaf Leaf Leaf Leaf Leaf f18 Leaf Leaf Leaf f4 f73 f59 f17 f20 Leaf Leaf f44 Leaf Leaf Leaf f15 Leaf Leaf Leaf f9 Leaf f11 Leaf Leaf Leaf Leaf Leaf Leaf Leaf Leaf f81 Leaf Leaf Leaf Leaf f8 Leaf f1 f9 Leaf Leaf f51 Leaf Leaf Leaf Leaf Leaf f10 f11 f8 f13 f1 Leaf f16 Leaf Leaf f10 f6 Leaf Leaf Leaf f75 Leaf f14 Leaf Leaf f17 f16 Leaf Leaf Leaf f11 Leaf f16 Leaf f14 f10 Leaf Leaf Leaf f9 f10 f12 Leaf Leaf Leaf Leaf Leaf Leaf f11 Leaf Leaf Leaf f21 f2 f10 f25 f0 f45 f0 f1 Leaf f85 f17 f29 f6 f73 f49 f0 f12 f51 f27 f18 f12 f83 f67 f47 f59 f39 f31 f67 f12 f11 f14 f18 f9 f7 Leaf Leaf Leaf f1 Leaf Leaf Leaf f61 f91 Leaf Leaf f41 Leaf Leaf Leaf f51 f4 Leaf Leaf Leaf Leaf f17 f4 f52 f15 Leaf Leaf f63 Leaf f11 Leaf Leaf f34 f10 f35 f35 Leaf Leaf Leaf Leaf Leaf Leaf f18 Leaf Leaf Leaf f4 f73 f59 f17 f20 Leaf Leaf f44 Leaf Leaf Leaf f15 Leaf Leaf Leaf f9 Leaf f11 Leaf Leaf Leaf Leaf Leaf Leaf Leaf Leaf f81 Leaf Leaf Leaf Leaf f8 Leaf f1 f9 Leaf Leaf f51 Leaf Leaf Leaf Leaf Leaf f10 f11 f8 f13 f1 Leaf f16 Leaf Leaf f10 f6 Leaf Leaf Leaf f75 Leaf f14 Leaf Leaf f17 f16 Leaf Leaf Leaf f11 Leaf f16 Leaf f14 f10 Leaf Leaf Leaf f9 f10 f12 Leaf Leaf Leaf Leaf Leaf Leaf f11 Leaf Leaf Leaf f19 f2 f61 f21 f0 f0 f12 f25 Leaf f51 f17 f39 f27 f0 f14 f1 Leaf f39 Leaf f4 Leaf f4 f71 f95 f67 f83 f57 Leaf f59 f0 f12 f10 Leaf f1 Leaf f63 Leaf f16 f37 Leaf Leaf Leaf Leaf Leaf f10 f59 f6 f29 f18 f11 f14 f18 f9 f11 f16 f10 f14 f41 f41 Leaf Leaf f25 Leaf f33 Leaf f16 Leaf Leaf Leaf Leaf Leaf Leaf Leaf f52 f15 Leaf Leaf f63 Leaf f16 Leaf f1 f14 f1 f15 Leaf Leaf f11 Leaf Leaf Leaf Leaf Leaf Leaf Leaf f51 f5 f45 Leaf f9 f20 Leaf Leaf f44 Leaf Leaf Leaf f16 f6 Leaf Leaf Leaf Leaf f12 f17 Leaf Leaf Leaf Leaf Leaf Leaf f83 f71 f17 f15 Leaf Leaf f8 Leaf Leaf Leaf Leaf Leaf f11 f14 Leaf f12 f63 Leaf f95 Leaf Leaf Leaf Leaf Leaf f0 Leaf f17 Leaf Leaf Leaf Leaf Leaf Leaf Leaf Leaf Leaf f14 Leaf Leaf Leaf Leaf Leaf f19 f2 f61 f21 f0 f0 f12 f25 Leaf f51 f17 f39 f27 f0 f14 f1 Leaf f39 Leaf f4 Leaf f4 f71 f95 f67 f83 f57 Leaf f59 f0 f12 f10 Leaf f1 Leaf f63 Leaf f16 f37 Leaf Leaf Leaf Leaf Leaf f10 f59 f6 f29 f18 f11 f14 f18 f9 f11 f16 f10 f14 f41 f41 Leaf Leaf f25 Leaf f33 Leaf f16 Leaf Leaf Leaf Leaf Leaf Leaf Leaf f52 f15 Leaf Leaf f63 Leaf f16 Leaf f1 f14 f1 f15 Leaf Leaf f11 Leaf Leaf Leaf Leaf Leaf Leaf Leaf f51 f5 f45 Leaf f9 f20 Leaf Leaf f44 Leaf Leaf Leaf f16 f6 Leaf Leaf Leaf Leaf f12 f17 Leaf Leaf Leaf Leaf Leaf Leaf f83 f71 f17 f15 Leaf Leaf f8 Leaf Leaf Leaf Leaf Leaf f11 f14 Leaf f12 f63 Leaf f95 Leaf Leaf Leaf Leaf Leaf f0 Leaf f17 Leaf Leaf Leaf Leaf Leaf Leaf Leaf Leaf Leaf f14 Leaf Leaf Leaf Leaf Leaf f19 f2 f61 f21 f0 f0 f12 f25 Leaf f51 f18 f18 f27 f57 f79 f1 Leaf f39 Leaf f17 Leaf f39 f16 f15 f67 f59 f0 f59 f93 f0 f12 f34 Leaf f1 Leaf f9 f41 Leaf Leaf Leaf Leaf Leaf Leaf f37 Leaf f37 f6 Leaf Leaf Leaf f23 f70 f14 f18 f9 f5 Leaf f10 f35 f51 Leaf Leaf Leaf f89 f55 f53 f31 f17 Leaf Leaf Leaf f11 f48 Leaf Leaf f63 Leaf f16 Leaf f15 f13 Leaf Leaf f9 Leaf f41 Leaf f4 f65 Leaf Leaf Leaf Leaf Leaf Leaf f29 f14 f17 f15 Leaf Leaf f13 Leaf Leaf Leaf f1 f9 Leaf Leaf Leaf Leaf Leaf Leaf Leaf f47 Leaf f15 f73 Leaf Leaf Leaf f9 Leaf Leaf Leaf f16 Leaf f16 f11 f17 Leaf Leaf Leaf Leaf Leaf Leaf f93 f14 f15 f0 Leaf f10 Leaf f14 f9 f10 Leaf Leaf Leaf f6 Leaf Leaf Leaf f11 Leaf f11 Leaf Leaf f17 f10 Leaf Leaf f11 Leaf Leaf f14 f15 Leaf Leaf f10 Leaf Leaf f16 Leaf f14 Leaf f10 Leaf Leaf Leaf Leaf f17 Leaf Leaf Leaf Leaf f9 Leaf Leaf Leaf Leaf f19 f2 f61 f21 f0 f0 f12 f25 Leaf f51 f18 f18 f27 f57 f79 f1 Leaf f39 Leaf f17 Leaf f39 f16 f15 f67 f59 f0 f59 f93 f0 f12 f34 Leaf f1 Leaf f9 f41 Leaf Leaf Leaf Leaf Leaf Leaf f37 Leaf f37 f6 Leaf Leaf Leaf f23 f70 f14 f18 f9 f5 Leaf f10 f35 f51 Leaf Leaf Leaf f89 f55 f53 f31 f17 Leaf Leaf Leaf f11 f48 Leaf Leaf f63 Leaf f16 Leaf f15 f13 Leaf Leaf f9 Leaf f41 Leaf f4 f65 Leaf Leaf Leaf Leaf Leaf Leaf f29 f14 f17 f15 Leaf Leaf f13 Leaf Leaf Leaf f1 f9 Leaf Leaf Leaf Leaf Leaf Leaf Leaf f47 Leaf f15 f73 Leaf Leaf Leaf f9 Leaf Leaf Leaf f16 Leaf f16 f11 f17 Leaf Leaf Leaf Leaf Leaf Leaf f93 f14 f15 f0 Leaf f10 Leaf f14 f9 f10 Leaf Leaf Leaf f6 Leaf Leaf Leaf f11 Leaf f11 Leaf Leaf f17 f10 Leaf Leaf f11 Leaf Leaf f14 f15 Leaf Leaf f10 Leaf Leaf f16 Leaf f14 Leaf f10 Leaf Leaf Leaf Leaf f17 Leaf Leaf Leaf Leaf f9 Leaf Leaf Leaf Leaf f61 f2 f12 f21 f0 f57 f14 f25 f41 f8 f95 f59 f0 Leaf f59 f1 Leaf f1 Leaf f37 f33 f39 Leaf f37 Leaf f83 f6 f37 f18 f0 f10 Leaf Leaf f51 f57 Leaf Leaf f69 f77 f89 f55 Leaf f37 f17 Leaf Leaf Leaf Leaf Leaf f70 f14 f63 f64 f34 f27 Leaf Leaf f14 Leaf Leaf Leaf f4 f93 Leaf Leaf f77 f23 f91 f15 f11 f48 Leaf Leaf f16 Leaf f16 Leaf f15 Leaf f4 f75 f35 f51 Leaf f65 Leaf f51 Leaf Leaf Leaf Leaf f73 Leaf Leaf Leaf f17 f15 Leaf Leaf f0 f14 f14 Leaf f1 f9 Leaf Leaf Leaf Leaf f16 Leaf f16 Leaf Leaf Leaf Leaf Leaf Leaf f89 f9 Leaf Leaf Leaf Leaf Leaf Leaf Leaf Leaf f11 f10 f11 f17 f12 Leaf Leaf Leaf Leaf Leaf Leaf f14 f10 f9 f12 f16 Leaf f14 f12 f16 f10 Leaf Leaf f6 Leaf Leaf Leaf Leaf Leaf Leaf Leaf Leaf Leaf Leaf Leaf f14 Leaf f12 f11 Leaf Leaf f10 Leaf f10 Leaf f11 Leaf Leaf Leaf Leaf Leaf Leaf f17 Leaf f10 Leaf Leaf Leaf Leaf f61 f2 f12 f21 f0 f57 f14 f25 f41 f8 f95 f59 f0 Leaf f59 f1 Leaf f1 Leaf f37 f33 f39 Leaf f37 Leaf f83 f6 f37 f18 f0 f10 Leaf Leaf f51 f57 Leaf Leaf f69 f77 f89 f55 Leaf f37 f17 Leaf Leaf Leaf Leaf Leaf f70 f14 f63 f64 f34 f27 Leaf Leaf f14 Leaf Leaf Leaf f4 f93 Leaf Leaf f77 f23 f91 f15 f11 f48 Leaf Leaf f16 Leaf f16 Leaf f15 Leaf f4 f75 f35 f51 Leaf f65 Leaf f51 Leaf Leaf Leaf Leaf f73 Leaf Leaf Leaf f17 f15 Leaf Leaf f0 f14 f14 Leaf f1 f9 Leaf Leaf Leaf Leaf f16 Leaf f16 Leaf Leaf Leaf Leaf Leaf Leaf f89 f9 Leaf Leaf Leaf Leaf Leaf Leaf Leaf Leaf f11 f10 f11 f17 f12 Leaf Leaf Leaf Leaf Leaf Leaf f14 f10 f9 f12 f16 Leaf f14 f12 f16 f10 Leaf Leaf f6 Leaf Leaf Leaf Leaf Leaf Leaf Leaf Leaf Leaf Leaf Leaf f14 Leaf f12 f11 Leaf Leaf f10 Leaf f10 Leaf f11 Leaf Leaf Leaf Leaf Leaf Leaf f17 Leaf f10 Leaf Leaf Leaf Leaf f61 f2 f12 f21 f0 f57 f14 f1 f41 f8 f95 f59 f0 Leaf f59 f0 f10 f1 Leaf f37 f33 f39 Leaf f37 Leaf f83 f6 Leaf f18 f52 f14 f63 f16 Leaf Leaf f4 f57 Leaf Leaf f69 f77 f89 f55 Leaf f37 f77 Leaf Leaf Leaf f11 f20 Leaf Leaf f15 Leaf f14 f5 f51 f63 Leaf Leaf f14 Leaf Leaf Leaf f83 f65 Leaf Leaf f33 f23 f73 f67 f17 f15 Leaf Leaf f16 Leaf Leaf f11 Leaf Leaf f15 f39 Leaf Leaf f35 f51 Leaf f1 Leaf f15 Leaf Leaf Leaf Leaf Leaf Leaf f15 Leaf f9 Leaf Leaf Leaf f0 Leaf f9 f12 f1 f9 Leaf Leaf f16 Leaf f16 Leaf Leaf Leaf Leaf Leaf Leaf Leaf f14 f15 Leaf Leaf Leaf Leaf Leaf Leaf f16 f14 f17 f12 f11 Leaf Leaf Leaf f6 Leaf Leaf Leaf f10 Leaf f11 f9 f16 Leaf Leaf Leaf Leaf f12 f10 Leaf Leaf Leaf Leaf f16 f11 Leaf f10 f11 Leaf Leaf Leaf Leaf Leaf Leaf f10 Leaf f1 f12 Leaf Leaf Leaf Leaf Leaf Leaf f11 Leaf Leaf Leaf f61 f2 f12 f21 f0 f57 f14 f1 f41 f8 f95 f59 f0 Leaf f59 f0 f10 f1 Leaf f37 f33 f39 Leaf f37 Leaf f83 f6 Leaf f18 f52 f14 f63 f16 Leaf Leaf f4 f57 Leaf Leaf f69 f77 f89 f55 Leaf f37 f77 Leaf Leaf Leaf f11 f20 Leaf Leaf f15 Leaf f14 f5 f51 f63 Leaf Leaf f14 Leaf Leaf Leaf f83 f65 Leaf Leaf f33 f23 f73 f67 f17 f15 Leaf Leaf f16 Leaf Leaf f11 Leaf Leaf f15 f39 Leaf Leaf f35 f51 Leaf f1 Leaf f15 Leaf Leaf Leaf Leaf Leaf Leaf f15 Leaf f9 Leaf Leaf Leaf f0 Leaf f9 f12 f1 f9 Leaf Leaf f16 Leaf f16 Leaf Leaf Leaf Leaf Leaf Leaf Leaf f14 f15 Leaf Leaf Leaf Leaf Leaf Leaf f16 f14 f17 f12 f11 Leaf Leaf Leaf f6 Leaf Leaf Leaf f10 Leaf f11 f9 f16 Leaf Leaf Leaf Leaf f12 f10 Leaf Leaf Leaf Leaf f16 f11 Leaf f10 f11 Leaf Leaf Leaf Leaf Leaf Leaf f10 Leaf f1 f12 Leaf Leaf Leaf Leaf Leaf Leaf f11 Leaf Leaf Leaf f61 f2 f59 f21 f0 f45 f14 f25 f41 f8 f95 f73 f47 f57 f81 f1 Leaf f1 Leaf f85 f10 f37 Leaf f71 Leaf f43 f43 Leaf f91 f5 f4 f0 f10 Leaf Leaf f51 f71 Leaf f14 f27 Leaf f89 f1 Leaf Leaf f29 f1 Leaf f0 Leaf Leaf Leaf f9 f70 f14 f64 f64 f20 f9 f15 Leaf Leaf Leaf f21 Leaf Leaf Leaf Leaf Leaf Leaf f83 f4 Leaf Leaf Leaf f10 Leaf f17 f78 Leaf Leaf f16 Leaf f16 Leaf f6 Leaf Leaf f19 Leaf Leaf f69 Leaf Leaf Leaf Leaf f35 Leaf Leaf f11 Leaf Leaf Leaf f63 f14 f14 Leaf f5 Leaf Leaf Leaf f15 Leaf Leaf Leaf f14 f15 f11 Leaf Leaf Leaf Leaf f11 f15 Leaf f11 f9 f6 f9 Leaf Leaf Leaf Leaf f9 f12 f1 f9 Leaf Leaf f14 Leaf f10 Leaf Leaf Leaf Leaf Leaf f15 Leaf f11 f16 f14 Leaf Leaf Leaf Leaf Leaf Leaf Leaf f12 Leaf f14 f11 Leaf f11 Leaf Leaf f11 f10 f17 f9 Leaf f16 Leaf Leaf Leaf Leaf Leaf Leaf Leaf Leaf Leaf f12 Leaf Leaf f61 f2 f59 f21 f0 f45 f14 f25 f41 f8 f95 f73 f47 f57 f81 f1 Leaf f1 Leaf f85 f10 f37 Leaf f71 Leaf f43 f43 Leaf f91 f5 f4 f0 f10 Leaf Leaf f51 f71 Leaf f14 f27 Leaf f89 f1 Leaf Leaf f29 f1 Leaf f0 Leaf Leaf Leaf f9 f70 f14 f64 f64 f20 f9 f15 Leaf Leaf Leaf f21 Leaf Leaf Leaf Leaf Leaf Leaf f83 f4 Leaf Leaf Leaf f10 Leaf f17 f78 Leaf Leaf f16 Leaf f16 Leaf f6 Leaf Leaf f19 Leaf Leaf f69 Leaf Leaf Leaf Leaf f35 Leaf Leaf f11 Leaf Leaf Leaf f63 f14 f14 Leaf f5 Leaf Leaf Leaf f15 Leaf Leaf Leaf f14 f15 f11 Leaf Leaf Leaf Leaf f11 f15 Leaf f11 f9 f6 f9 Leaf Leaf Leaf Leaf f9 f12 f1 f9 Leaf Leaf f14 Leaf f10 Leaf Leaf Leaf Leaf Leaf f15 Leaf f11 f16 f14 Leaf Leaf Leaf Leaf Leaf Leaf Leaf f12 Leaf f14 f11 Leaf f11 Leaf Leaf f11 f10 f17 f9 Leaf f16 Leaf Leaf Leaf Leaf Leaf Leaf Leaf Leaf Leaf f12 Leaf Leaf f21 f4 f10 f20 Leaf f55 f59 f2 Leaf f11 f6 f0 f18 f70 f45 f77 f16 f91 f59 f95 f17 f89 f9 f1 Leaf f39 Leaf f63 f25 f37 Leaf f1 f89 Leaf Leaf f63 f25 Leaf Leaf Leaf f87 f31 Leaf f17 f10 f17 Leaf f49 f5 f16 f31 Leaf f31 Leaf Leaf f35 Leaf f57 Leaf Leaf Leaf Leaf Leaf Leaf f17 f16 Leaf f16 f16 f5 f9 f51 Leaf f14 Leaf Leaf Leaf Leaf Leaf Leaf Leaf Leaf Leaf f4 Leaf Leaf Leaf f5 Leaf f14 f14 f14 Leaf f0 f15 f15 f15 Leaf Leaf Leaf Leaf Leaf Leaf f9 Leaf Leaf f15 Leaf Leaf Leaf f11 f8 f16 Leaf f16 f13 f12 Leaf Leaf f6 Leaf Leaf Leaf f15 Leaf f6 Leaf f51 Leaf Leaf Leaf f11 Leaf Leaf Leaf f0 Leaf f9 Leaf f15 Leaf f15 Leaf Leaf Leaf f14 f14 Leaf Leaf f11 f16 Leaf f10 Leaf Leaf Leaf Leaf f1 f16 f12 Leaf Leaf Leaf f12 Leaf f14 Leaf f11 Leaf Leaf Leaf Leaf Leaf Leaf Leaf f21 f4 f10 f20 Leaf f55 f59 f2 Leaf f11 f6 f0 f18 f70 f45 f77 f16 f91 f59 f95 f17 f89 f9 f1 Leaf f39 Leaf f63 f25 f37 Leaf f1 f89"
     ]
    },
    {
     "name": "stdout",
     "output_type": "stream",
     "text": [
      " Leaf Leaf f63 f25 Leaf Leaf Leaf f87 f31 Leaf f17 f10 f17 Leaf f49 f5 f16 f31 Leaf f31 Leaf Leaf f35 Leaf f57 Leaf Leaf Leaf Leaf Leaf Leaf f17 f16 Leaf f16 f16 f5 f9 f51 Leaf f14 Leaf Leaf Leaf Leaf Leaf Leaf Leaf Leaf Leaf f4 Leaf Leaf Leaf f5 Leaf f14 f14 f14 Leaf f0 f15 f15 f15 Leaf Leaf Leaf Leaf Leaf Leaf f9 Leaf Leaf f15 Leaf Leaf Leaf f11 f8 f16 Leaf f16 f13 f12 Leaf Leaf f6 Leaf Leaf Leaf f15 Leaf f6 Leaf f51 Leaf Leaf Leaf f11 Leaf Leaf Leaf f0 Leaf f9 Leaf f15 Leaf f15 Leaf Leaf Leaf f14 f14 Leaf Leaf f11 f16 Leaf f10 Leaf Leaf Leaf Leaf f1 f16 f12 Leaf Leaf Leaf f12 Leaf f14 Leaf f11 Leaf Leaf Leaf Leaf Leaf Leaf Leaf f61 f0 f59 f20 f14 f33 f29 f74 Leaf f11 f15 f83 f9 Leaf f23 f70 Leaf f15 f1 f19 f9 f77 f67 f77 f93 f93 f10 f2 Leaf f39 Leaf Leaf f27 Leaf Leaf Leaf Leaf f63 f65 f1 Leaf f73 Leaf Leaf Leaf Leaf f73 f57 f14 f1 f13 f1 Leaf Leaf Leaf Leaf Leaf f43 Leaf Leaf Leaf f37 Leaf Leaf Leaf Leaf f14 Leaf f9 f25 f11 f8 f16 f2 Leaf Leaf Leaf Leaf Leaf Leaf Leaf Leaf Leaf f21 Leaf f9 f51 f37 f33 Leaf Leaf Leaf Leaf f14 Leaf f15 Leaf f15 Leaf f6 f41 Leaf Leaf f17 f11 f14 f10 Leaf Leaf f4 Leaf Leaf Leaf f6 Leaf f9 Leaf f16 f16 Leaf Leaf f5 f16 f10 Leaf Leaf Leaf f10 Leaf f10 Leaf f51 Leaf Leaf Leaf Leaf Leaf Leaf Leaf Leaf Leaf f75 f39 f7 Leaf Leaf Leaf Leaf Leaf f61 f0 f59 f20 f14 f33 f29 f74 Leaf f11 f15 f83 f9 Leaf f23 f70 Leaf f15 f1 f19 f9 f77 f67 f77 f93 f93 f10 f2 Leaf f39 Leaf Leaf f27 Leaf Leaf Leaf Leaf f63 f65 f1 Leaf f73 Leaf Leaf Leaf Leaf f73 f57 f14 f1 f13 f1 Leaf Leaf Leaf Leaf Leaf f43 Leaf Leaf Leaf f37 Leaf Leaf Leaf Leaf f14 Leaf f9 f25 f11 f8 f16 f2 Leaf Leaf Leaf Leaf Leaf Leaf Leaf Leaf Leaf f21 Leaf f9 f51 f37 f33 Leaf Leaf Leaf Leaf f14 Leaf f15 Leaf f15 Leaf f6 f41 Leaf Leaf f17 f11 f14 f10 Leaf Leaf f4 Leaf Leaf Leaf f6 Leaf f9 Leaf f16 f16 Leaf Leaf f5 f16 f10 Leaf Leaf Leaf f10 Leaf f10 Leaf f51 Leaf Leaf Leaf Leaf Leaf Leaf Leaf Leaf Leaf f75 f39 f7 Leaf Leaf Leaf Leaf Leaf f61 f20 f59 f2 Leaf f11 f1 f25 f17 f79 f9 f55 f6 f63 Leaf f39 f73 f83 Leaf f43 f93 Leaf Leaf f91 Leaf f44 f14 f69 f27 f71 Leaf f77 f91 f71 Leaf Leaf Leaf Leaf f18 f1 Leaf Leaf Leaf f12 Leaf f16 f71 f9 Leaf f27 f65 Leaf f37 Leaf Leaf f23 f9 f0 f5 f11 f14 Leaf Leaf Leaf Leaf f15 Leaf Leaf Leaf f71 Leaf Leaf Leaf Leaf f87 f17 Leaf f14 Leaf f15 Leaf f0 f1 f11 Leaf f16 f12 Leaf Leaf Leaf f10 Leaf Leaf f17 f5 f14 f11 f14 f15 Leaf f10 Leaf Leaf Leaf Leaf f11 Leaf Leaf Leaf f6 Leaf f9 Leaf f9 f11 Leaf Leaf f1 f16 Leaf Leaf Leaf f0 Leaf Leaf Leaf Leaf Leaf Leaf f11 Leaf f16 Leaf Leaf Leaf f10 Leaf f5 Leaf f10 Leaf f10 Leaf Leaf Leaf f15 Leaf Leaf Leaf Leaf f9 f14 f14 Leaf Leaf Leaf Leaf Leaf Leaf f61 f20 f59 f2 Leaf f11 f1 f25 f17 f79 f9 f55 f6 f63 Leaf f39 f73 f83 Leaf f43 f93 Leaf Leaf f91 Leaf f44 f14 f69 f27 f71 Leaf f77 f91 f71 Leaf Leaf Leaf Leaf f18 f1 Leaf Leaf Leaf f12 Leaf f16 f71 f9 Leaf f27 f65 Leaf f37 Leaf Leaf f23 f9 f0 f5 f11 f14 Leaf Leaf Leaf Leaf f15 Leaf Leaf Leaf f71 Leaf Leaf Leaf Leaf f87 f17 Leaf f14 Leaf f15 Leaf f0 f1 f11 Leaf f16 f12 Leaf Leaf Leaf f10 Leaf Leaf f17 f5 f14 f11 f14 f15 Leaf f10 Leaf Leaf Leaf Leaf f11 Leaf Leaf Leaf f6 Leaf f9 Leaf f9 f11 Leaf Leaf f1 f16 Leaf Leaf Leaf f0 Leaf Leaf Leaf Leaf Leaf Leaf f11 Leaf f16 Leaf Leaf Leaf f10 Leaf f5 Leaf f10 Leaf f10 Leaf Leaf Leaf f15 Leaf Leaf Leaf Leaf f9 f14 f14 Leaf Leaf Leaf Leaf Leaf Leaf f61 f20 f59 f74 Leaf f11 f79 f4 Leaf f79 f9 Leaf f91 f39 f69 f73 Leaf f25 f25 Leaf f57 f75 f85 f14 f27 f77 f91 f93 Leaf Leaf Leaf Leaf f9 f65 f14 Leaf f15 Leaf Leaf Leaf Leaf f89 f25 Leaf Leaf Leaf Leaf f6 Leaf f57 Leaf Leaf Leaf f49 Leaf Leaf f69 f71 Leaf f12 Leaf f10 Leaf Leaf Leaf Leaf Leaf Leaf Leaf f18 Leaf f18 f1 Leaf Leaf f7 Leaf f16 f16 Leaf f11 f2 Leaf f12 f2 f19 f15 Leaf Leaf f17 f17 Leaf f18 f21 Leaf Leaf f14 f0 Leaf f15 Leaf f14 Leaf f63 Leaf Leaf Leaf f2 Leaf Leaf Leaf Leaf f9 Leaf Leaf Leaf Leaf Leaf Leaf f61 f20 f59 f74 Leaf f11 f79 f4 Leaf f79 f9 Leaf f91 f39 f69 f73 Leaf f25 f25 Leaf f57 f75 f85 f14 f27 f77 f91 f93 Leaf Leaf Leaf Leaf f9 f65 f14 Leaf f15 Leaf Leaf Leaf Leaf f89 f25 Leaf Leaf Leaf Leaf f6 Leaf f57 Leaf Leaf Leaf f49 Leaf Leaf f69 f71 Leaf f12 Leaf f10 Leaf Leaf Leaf Leaf Leaf Leaf Leaf f18 Leaf f18 f1 Leaf Leaf f7 Leaf f16 f16 Leaf f11 f2 Leaf f12 f2 f19 f15 Leaf Leaf f17 f17 Leaf f18 f21 Leaf Leaf f14 f0 Leaf f15 Leaf f14 Leaf f63 Leaf Leaf Leaf f2 Leaf Leaf Leaf Leaf f9 Leaf Leaf Leaf Leaf Leaf Leaf f61 f20 f37 f74 Leaf f31 f0 f0 Leaf f4 f87 f31 f29 f13 f35 f71 f83 Leaf Leaf Leaf Leaf f79 f77 f7 f9 f51 Leaf f75 Leaf Leaf f77 Leaf Leaf f73 f6 f15 f39 Leaf Leaf f16 f25 Leaf f77 Leaf Leaf Leaf Leaf f2 Leaf Leaf Leaf f41 f45 f14 Leaf Leaf Leaf f69 Leaf Leaf f17 f5 Leaf f4 Leaf f1 f10 Leaf Leaf Leaf Leaf f63 f11 Leaf Leaf f15 Leaf f15 Leaf f8 f14 f14 Leaf f2 Leaf Leaf Leaf f4 f2 Leaf Leaf Leaf Leaf Leaf Leaf f19 Leaf Leaf Leaf f21 Leaf f14 Leaf Leaf Leaf f61 f20 f37 f74 Leaf f31 f0 f0 Leaf f4 f87 f31 f29 f13 f35 f71 f83 Leaf Leaf Leaf Leaf f79 f77 f7 f9 f51 Leaf f75 Leaf Leaf f77 Leaf Leaf f73 f6 f15 f39 Leaf Leaf f16 f25 Leaf f77 Leaf Leaf Leaf Leaf f2 Leaf Leaf Leaf f41 f45 f14 Leaf Leaf Leaf f69 Leaf Leaf f17 f5 Leaf f4 Leaf f1 f10 Leaf Leaf Leaf Leaf f63 f11 Leaf Leaf f15 Leaf f15 Leaf f8 f14 f14 Leaf f2 Leaf Leaf Leaf f4 f2 Leaf Leaf Leaf Leaf Leaf Leaf f19 Leaf Leaf Leaf f21 Leaf f14 Leaf Leaf Leaf f91 f20 f23 f81 Leaf f5 f1 f41 Leaf f71 Leaf f87 f14 f77 f39 Leaf f45 Leaf Leaf f15 f4 f85 Leaf f2 f83 Leaf f18 Leaf Leaf Leaf Leaf f4 f47 Leaf f43 f17 f77 Leaf f81 f44 f39 Leaf Leaf Leaf Leaf f29 Leaf f67 f59 Leaf Leaf f21 Leaf Leaf Leaf Leaf Leaf Leaf Leaf Leaf Leaf f5 f19 f51 f15 Leaf f27 f2 f10 f2 f11 Leaf Leaf f15 f8 Leaf Leaf f16 Leaf Leaf Leaf f27 f9 f9 Leaf Leaf Leaf f1 Leaf f1 Leaf f10 f15 Leaf Leaf Leaf Leaf Leaf Leaf Leaf Leaf f91 f20 f23 f81 Leaf f5 f1 f41 Leaf f71 Leaf f87 f14 f77 f39 Leaf f45 Leaf Leaf f15 f4 f85 Leaf f2 f83 Leaf f18 Leaf Leaf Leaf Leaf f4 f47 Leaf f43 f17 f77 Leaf f81 f44 f39 Leaf Leaf Leaf Leaf f29 Leaf f67 f59 Leaf Leaf f21 Leaf Leaf Leaf Leaf Leaf Leaf Leaf Leaf Leaf f5 f19 f51 f15 Leaf f27 f2 f10 f2 f11 Leaf Leaf f15 f8 Leaf Leaf f16 Leaf Leaf Leaf f27 f9 f9 Leaf Leaf Leaf f1 Leaf f1 Leaf f10 f15 Leaf Leaf Leaf Leaf Leaf Leaf Leaf Leaf f57 f20 f12 f93 Leaf f83 f73 f45 f23 f15 f0 Leaf f93 f39 f43 f45 Leaf Leaf Leaf f37 f29 Leaf Leaf f51 f14 Leaf f71 f71 f65 Leaf Leaf Leaf f14 f4 f11 f63 Leaf Leaf Leaf Leaf Leaf Leaf Leaf Leaf f4 f85 Leaf Leaf f0 Leaf f51 Leaf Leaf f21 Leaf Leaf Leaf Leaf Leaf f5 Leaf f44 f11 f2 Leaf f15 f15 f15 f8 f1 Leaf Leaf Leaf f9 f9 f15 Leaf Leaf Leaf f11 f14 f1 Leaf f10 f1 Leaf Leaf Leaf Leaf Leaf Leaf Leaf Leaf Leaf Leaf f57 f20 f12 f93 Leaf f83 f73 f45 f23 f15 f0 Leaf f93 f39 f43 f45 Leaf Leaf Leaf f37 f29 Leaf Leaf f51 f14 Leaf f71 f71 f65 Leaf Leaf Leaf f14 f4 f11 f63 Leaf Leaf Leaf Leaf Leaf Leaf Leaf Leaf f4 f85 Leaf Leaf f0 Leaf f51 Leaf Leaf f21 Leaf Leaf Leaf Leaf Leaf f5 Leaf f44 f11 f2 Leaf f15 f15 f15 f8 f1 Leaf Leaf Leaf f9 f9 f15 Leaf Leaf Leaf f11 f14 f1 Leaf f10 f1 Leaf Leaf Leaf Leaf Leaf Leaf Leaf Leaf Leaf Leaf f61 f27 f37 f85 f16 f31 f51 f20 f95 f1 Leaf f73 f87 Leaf f2 f37 Leaf Leaf Leaf Leaf f14 f29 f93 Leaf Leaf Leaf f6 f75 Leaf f43 Leaf f1 f43 Leaf Leaf f0 Leaf f4 f43 Leaf Leaf f77 Leaf Leaf Leaf f89 f17 f25 f21 Leaf Leaf Leaf Leaf Leaf Leaf f31 f12 f10 Leaf Leaf Leaf Leaf Leaf Leaf Leaf f7 f18 Leaf f18 f6 Leaf f14 Leaf f15 Leaf f15 f17 f0 f14 f1 Leaf f2 Leaf f14 Leaf f11 f9 f2 f2 f1 f16 f12 f12 Leaf Leaf f12 f12 Leaf Leaf Leaf Leaf Leaf Leaf Leaf Leaf Leaf Leaf Leaf Leaf Leaf Leaf Leaf Leaf f61 f27 f37 f85 f16 f31 f51 f20 f95 f1 Leaf f73 f87 Leaf f2 f37 Leaf Leaf Leaf Leaf f14 f29 f93 Leaf Leaf Leaf f6 f75 Leaf f43 Leaf f1 f43 Leaf Leaf f0 Leaf f4 f43 Leaf Leaf f77 Leaf Leaf Leaf f89 f17 f25 f21 Leaf Leaf Leaf Leaf Leaf Leaf f31 f12 f10 Leaf Leaf Leaf Leaf Leaf Leaf Leaf f7 f18 Leaf f18 f6 Leaf f14 Leaf f15 Leaf f15 f17 f0 f14 f1 Leaf f2 Leaf f14 Leaf f11 f9 f2 f2 f1 f16 f12 f12 Leaf Leaf f12 f12 Leaf Leaf Leaf Leaf Leaf Leaf Leaf Leaf Leaf Leaf Leaf Leaf Leaf Leaf Leaf Leaf f91 f73 f23 f61 f27 f33 f1 f20 f57 Leaf Leaf f31 f14 Leaf f87 f77 Leaf f4 Leaf Leaf Leaf f83 f73 Leaf f14 f65 Leaf f2 Leaf Leaf Leaf Leaf f18 Leaf Leaf f9 Leaf f69 Leaf Leaf Leaf f95 f15 Leaf Leaf f39 Leaf f16 f12 f37 Leaf f14 f14 f16 f17 f13 Leaf Leaf Leaf Leaf Leaf Leaf Leaf Leaf Leaf f64 Leaf f1 Leaf f15 f10 f10 Leaf f17 f18 Leaf Leaf Leaf Leaf Leaf Leaf f91 f73 f23 f61 f27 f33 f1 f20 f57 Leaf Leaf f31 f14 Leaf f87 f77 Leaf f4 Leaf Leaf Leaf f83 f73 Leaf f14 f65 Leaf f2 Leaf Leaf Leaf Leaf f18 Leaf Leaf f9 Leaf f69 Leaf Leaf Leaf f95 f15 Leaf Leaf f39 Leaf f16 f12 f37 Leaf f14 f14 f16 f17 f13 Leaf Leaf Leaf Leaf Leaf Leaf Leaf Leaf Leaf f64 Leaf f1 Leaf f15 f10 f10 Leaf f17 f18 Leaf Leaf Leaf Leaf Leaf Leaf f57 f35 f12 f4 f51 f51 f89 f89 f69 Leaf f93 Leaf f0 f18 Leaf f61 f91 Leaf f33 Leaf Leaf f35 f4 Leaf Leaf f70 f41 Leaf Leaf Leaf Leaf Leaf f87 Leaf f29 f96 Leaf Leaf Leaf Leaf Leaf Leaf f14 f63 Leaf Leaf Leaf f49 f37 f21 Leaf f2 Leaf f75 Leaf Leaf Leaf f5 Leaf f6 f11 f0 Leaf f2 Leaf f11 f16 Leaf Leaf Leaf Leaf Leaf Leaf f57 f35 f12 f4 f51 f51 f89 f89 f69 Leaf f93 Leaf f0 f18 Leaf f61 f91 Leaf f33 Leaf Leaf f35 f4 Leaf Leaf f70 f41 Leaf Leaf Leaf Leaf Leaf f87 Leaf f29 f96 Leaf Leaf Leaf Leaf Leaf Leaf f14 f63 Leaf Leaf Leaf f49 f37 f21 Leaf f2 Leaf f75 Leaf Leaf Leaf f5 Leaf f6 f11 f0 Leaf f2 Leaf f11 f16 Leaf Leaf Leaf Leaf Leaf Leaf f0 f51 f57 f67 f15 f59 f4 f77 Leaf f11 f10 f55 Leaf f12 f81 f75 Leaf f43 Leaf Leaf f25 f89 Leaf Leaf Leaf f29 f14 f41 Leaf Leaf Leaf f69 Leaf f16 Leaf Leaf Leaf Leaf Leaf f63 Leaf Leaf Leaf f35 f10 f70 Leaf f69 Leaf Leaf Leaf f64 Leaf f14 f85 f13 Leaf f1 f10 Leaf Leaf f5 f11 f15 Leaf Leaf Leaf f12 f16 Leaf Leaf f2 Leaf f21 f16 Leaf f14 Leaf Leaf f11 Leaf f11 f11 Leaf Leaf f17 f2 Leaf f9 Leaf f17 Leaf Leaf Leaf Leaf Leaf Leaf Leaf Leaf f0 f51 f57 f67 f15 f59 f4 f77 Leaf f11 f10 f55 Leaf f12 f81 f75 Leaf f43 Leaf Leaf f25 f89 Leaf Leaf Leaf f29 f14 f41 Leaf Leaf Leaf f69 Leaf f16 Leaf Leaf Leaf Leaf Leaf f63 Leaf Leaf Leaf f35 f10 f70 Leaf f69 Leaf Leaf Leaf f64 Leaf f14 f85 f13 Leaf f1 f10 Leaf Leaf f5 f11 f15 Leaf Leaf Leaf f12 f16 Leaf Leaf f2 Leaf f21 f16 Leaf f14 Leaf Leaf f11 Leaf f11 f11 Leaf Leaf f17 f2 Leaf f9 Leaf f17 Leaf Leaf Leaf Leaf Leaf Leaf Leaf Leaf f91 f73 f37 f47 f27 f87 f31 f45 f4 Leaf Leaf f71 Leaf Leaf f0 f39 Leaf Leaf Leaf Leaf Leaf f81 f77 f75 f14 Leaf Leaf Leaf f4 f4 Leaf Leaf Leaf Leaf f10 f85 Leaf Leaf Leaf f70 Leaf f64 Leaf f13 Leaf f8 Leaf f6 f6 f5 f2 Leaf Leaf f12 f16 Leaf Leaf Leaf Leaf Leaf Leaf f91 f73 f37 f47 f27 f87 f31 f45 f4 Leaf Leaf f71 Leaf Leaf f0 f39 Leaf Leaf Leaf Leaf Leaf f81 f77 f75 f14 Leaf Leaf Leaf f4 f4 Leaf Leaf Leaf Leaf f10 f85 Leaf Leaf Leaf f70 Leaf f64 Leaf f13 Leaf f8 Leaf f6 f6 f5 f2 Leaf Leaf f12 f16 Leaf Leaf Leaf Leaf Leaf Leaf f57 f37 f12 f93 f2 f51 f0 f45 f55 Leaf f49 Leaf f0 Leaf f81 f39 f47 f29 Leaf Leaf Leaf f35 f29 Leaf Leaf f49 f16 Leaf Leaf Leaf Leaf Leaf f15 Leaf f14 f75 Leaf f10 Leaf Leaf Leaf Leaf f87 f21 Leaf Leaf Leaf Leaf Leaf f4 f14 f15 Leaf Leaf Leaf f9 f9 f64 f16 f1 f12 f14 Leaf f14 Leaf Leaf f17 f16 Leaf f6 f2 Leaf f12 f10 f12 Leaf Leaf f5 Leaf f10 f11 Leaf Leaf f16 f16 Leaf Leaf Leaf Leaf Leaf Leaf Leaf Leaf Leaf Leaf Leaf Leaf f57 f37 f12 f93 f2 f51 f0 f45 f55 Leaf f49 Leaf f0 Leaf f81 f39 f47 f29 Leaf Leaf Leaf f35 f29 Leaf Leaf f49 f16 Leaf Leaf Leaf Leaf Leaf f15 Leaf f14 f75 Leaf f10 Leaf Leaf Leaf Leaf f87 f21 Leaf Leaf Leaf Leaf Leaf f4 f14 f15 Leaf Leaf Leaf f9 f9 f64 f16 f1 f12 f14 Leaf f14 Leaf Leaf f17 f16 Leaf f6 f2 Leaf f12 f10 f12 Leaf Leaf f5 Leaf f10 f11 Leaf Leaf f16 f16 Leaf Leaf Leaf Leaf Leaf Leaf Leaf Leaf Leaf Leaf Leaf Leaf\n"
     ]
    }
   ],
   "source": [
    "print(*np.array(bst.trees_to_dataframe()['Feature']))"
   ]
  },
  {
   "cell_type": "code",
   "execution_count": 20,
   "metadata": {},
   "outputs": [
    {
     "data": {
      "text/html": [
       "<div>\n",
       "<style scoped>\n",
       "    .dataframe tbody tr th:only-of-type {\n",
       "        vertical-align: middle;\n",
       "    }\n",
       "\n",
       "    .dataframe tbody tr th {\n",
       "        vertical-align: top;\n",
       "    }\n",
       "\n",
       "    .dataframe thead th {\n",
       "        text-align: right;\n",
       "    }\n",
       "</style>\n",
       "<table border=\"1\" class=\"dataframe\">\n",
       "  <thead>\n",
       "    <tr style=\"text-align: right;\">\n",
       "      <th></th>\n",
       "      <th>Tree</th>\n",
       "      <th>Node</th>\n",
       "      <th>ID</th>\n",
       "      <th>Feature</th>\n",
       "      <th>Split</th>\n",
       "      <th>Yes</th>\n",
       "      <th>No</th>\n",
       "      <th>Missing</th>\n",
       "      <th>Gain</th>\n",
       "      <th>Cover</th>\n",
       "    </tr>\n",
       "  </thead>\n",
       "  <tbody>\n",
       "    <tr>\n",
       "      <th>0</th>\n",
       "      <td>0</td>\n",
       "      <td>0</td>\n",
       "      <td>0-0</td>\n",
       "      <td>f21</td>\n",
       "      <td>0.0</td>\n",
       "      <td>0-1</td>\n",
       "      <td>0-2</td>\n",
       "      <td>0-1</td>\n",
       "      <td>222.969208</td>\n",
       "      <td>512.000000</td>\n",
       "    </tr>\n",
       "    <tr>\n",
       "      <th>1</th>\n",
       "      <td>0</td>\n",
       "      <td>1</td>\n",
       "      <td>0-1</td>\n",
       "      <td>f2</td>\n",
       "      <td>0.0</td>\n",
       "      <td>0-3</td>\n",
       "      <td>0-4</td>\n",
       "      <td>0-3</td>\n",
       "      <td>25.411980</td>\n",
       "      <td>297.500000</td>\n",
       "    </tr>\n",
       "    <tr>\n",
       "      <th>2</th>\n",
       "      <td>0</td>\n",
       "      <td>2</td>\n",
       "      <td>0-2</td>\n",
       "      <td>f61</td>\n",
       "      <td>0.0</td>\n",
       "      <td>0-5</td>\n",
       "      <td>0-6</td>\n",
       "      <td>0-5</td>\n",
       "      <td>10.235039</td>\n",
       "      <td>214.500000</td>\n",
       "    </tr>\n",
       "    <tr>\n",
       "      <th>3</th>\n",
       "      <td>0</td>\n",
       "      <td>3</td>\n",
       "      <td>0-3</td>\n",
       "      <td>f25</td>\n",
       "      <td>0.0</td>\n",
       "      <td>0-7</td>\n",
       "      <td>0-8</td>\n",
       "      <td>0-7</td>\n",
       "      <td>4.230057</td>\n",
       "      <td>206.500000</td>\n",
       "    </tr>\n",
       "    <tr>\n",
       "      <th>4</th>\n",
       "      <td>0</td>\n",
       "      <td>4</td>\n",
       "      <td>0-4</td>\n",
       "      <td>f0</td>\n",
       "      <td>0.0</td>\n",
       "      <td>0-9</td>\n",
       "      <td>0-10</td>\n",
       "      <td>0-9</td>\n",
       "      <td>8.462448</td>\n",
       "      <td>91.000000</td>\n",
       "    </tr>\n",
       "    <tr>\n",
       "      <th>...</th>\n",
       "      <td>...</td>\n",
       "      <td>...</td>\n",
       "      <td>...</td>\n",
       "      <td>...</td>\n",
       "      <td>...</td>\n",
       "      <td>...</td>\n",
       "      <td>...</td>\n",
       "      <td>...</td>\n",
       "      <td>...</td>\n",
       "      <td>...</td>\n",
       "    </tr>\n",
       "    <tr>\n",
       "      <th>5331</th>\n",
       "      <td>39</td>\n",
       "      <td>92</td>\n",
       "      <td>39-92</td>\n",
       "      <td>Leaf</td>\n",
       "      <td>NaN</td>\n",
       "      <td>NaN</td>\n",
       "      <td>NaN</td>\n",
       "      <td>NaN</td>\n",
       "      <td>0.075851</td>\n",
       "      <td>3.160275</td>\n",
       "    </tr>\n",
       "    <tr>\n",
       "      <th>5332</th>\n",
       "      <td>39</td>\n",
       "      <td>93</td>\n",
       "      <td>39-93</td>\n",
       "      <td>Leaf</td>\n",
       "      <td>NaN</td>\n",
       "      <td>NaN</td>\n",
       "      <td>NaN</td>\n",
       "      <td>NaN</td>\n",
       "      <td>0.064282</td>\n",
       "      <td>3.016533</td>\n",
       "    </tr>\n",
       "    <tr>\n",
       "      <th>5333</th>\n",
       "      <td>39</td>\n",
       "      <td>94</td>\n",
       "      <td>39-94</td>\n",
       "      <td>Leaf</td>\n",
       "      <td>NaN</td>\n",
       "      <td>NaN</td>\n",
       "      <td>NaN</td>\n",
       "      <td>NaN</td>\n",
       "      <td>-0.008224</td>\n",
       "      <td>2.201080</td>\n",
       "    </tr>\n",
       "    <tr>\n",
       "      <th>5334</th>\n",
       "      <td>39</td>\n",
       "      <td>95</td>\n",
       "      <td>39-95</td>\n",
       "      <td>Leaf</td>\n",
       "      <td>NaN</td>\n",
       "      <td>NaN</td>\n",
       "      <td>NaN</td>\n",
       "      <td>NaN</td>\n",
       "      <td>-0.023019</td>\n",
       "      <td>6.286396</td>\n",
       "    </tr>\n",
       "    <tr>\n",
       "      <th>5335</th>\n",
       "      <td>39</td>\n",
       "      <td>96</td>\n",
       "      <td>39-96</td>\n",
       "      <td>Leaf</td>\n",
       "      <td>NaN</td>\n",
       "      <td>NaN</td>\n",
       "      <td>NaN</td>\n",
       "      <td>NaN</td>\n",
       "      <td>0.036704</td>\n",
       "      <td>1.116917</td>\n",
       "    </tr>\n",
       "  </tbody>\n",
       "</table>\n",
       "<p>5336 rows × 10 columns</p>\n",
       "</div>"
      ],
      "text/plain": [
       "      Tree  Node     ID Feature  Split  Yes    No Missing        Gain  \\\n",
       "0        0     0    0-0     f21    0.0  0-1   0-2     0-1  222.969208   \n",
       "1        0     1    0-1      f2    0.0  0-3   0-4     0-3   25.411980   \n",
       "2        0     2    0-2     f61    0.0  0-5   0-6     0-5   10.235039   \n",
       "3        0     3    0-3     f25    0.0  0-7   0-8     0-7    4.230057   \n",
       "4        0     4    0-4      f0    0.0  0-9  0-10     0-9    8.462448   \n",
       "...    ...   ...    ...     ...    ...  ...   ...     ...         ...   \n",
       "5331    39    92  39-92    Leaf    NaN  NaN   NaN     NaN    0.075851   \n",
       "5332    39    93  39-93    Leaf    NaN  NaN   NaN     NaN    0.064282   \n",
       "5333    39    94  39-94    Leaf    NaN  NaN   NaN     NaN   -0.008224   \n",
       "5334    39    95  39-95    Leaf    NaN  NaN   NaN     NaN   -0.023019   \n",
       "5335    39    96  39-96    Leaf    NaN  NaN   NaN     NaN    0.036704   \n",
       "\n",
       "           Cover  \n",
       "0     512.000000  \n",
       "1     297.500000  \n",
       "2     214.500000  \n",
       "3     206.500000  \n",
       "4      91.000000  \n",
       "...          ...  \n",
       "5331    3.160275  \n",
       "5332    3.016533  \n",
       "5333    2.201080  \n",
       "5334    6.286396  \n",
       "5335    1.116917  \n",
       "\n",
       "[5336 rows x 10 columns]"
      ]
     },
     "execution_count": 20,
     "metadata": {},
     "output_type": "execute_result"
    }
   ],
   "source": [
    "bst.trees_to_dataframe()"
   ]
  },
  {
   "cell_type": "code",
   "execution_count": 24,
   "metadata": {},
   "outputs": [
    {
     "data": {
      "text/plain": [
       "{'f21': 19.96075466319167,\n",
       " 'f2': 2.02445627476015,\n",
       " 'f25': 0.8300875767705884,\n",
       " 'f4': 0.34354396372621215,\n",
       " 'f1': 0.3602534208681481,\n",
       " 'f0': 0.8179100411159582,\n",
       " 'f11': 0.20852000105105728,\n",
       " 'f52': 0.19519388669999999,\n",
       " 'f17': 0.25666004916723395,\n",
       " 'f10': 0.4051910423717647,\n",
       " 'f20': 0.3993054240714284,\n",
       " 'f34': 0.6719252913750001,\n",
       " 'f15': 0.2580535464613955,\n",
       " 'f14': 0.21389155756091574,\n",
       " 'f63': 0.3211525117894737,\n",
       " 'f12': 0.4323473358887998,\n",
       " 'f18': 0.3827996561219565,\n",
       " 'f44': 0.27484002825000003,\n",
       " 'f8': 0.3375952246428571,\n",
       " 'f9': 0.3120180021491527,\n",
       " 'f37': 0.36022252925833337,\n",
       " 'f85': 0.6664879687111109,\n",
       " 'f51': 0.4510916776814814,\n",
       " 'f7': 0.4849869640714286,\n",
       " 'f16': 0.2514209960652172,\n",
       " 'f5': 0.312922788752174,\n",
       " 'f73': 0.607460633868889,\n",
       " 'f6': 0.22496841073928572,\n",
       " 'f13': 0.21105931155000004,\n",
       " 'f27': 0.3575682994281249,\n",
       " 'f35': 0.22726164443076918,\n",
       " 'f61': 6.305094468821427,\n",
       " 'f49': 0.5068948980357143,\n",
       " 'f95': 0.577767406,\n",
       " 'f69': 0.30885669680291666,\n",
       " 'f43': 0.26761373809322725,\n",
       " 'f79': 0.78633680575,\n",
       " 'f81': 0.237120337254375,\n",
       " 'f93': 0.4301545701923079,\n",
       " 'f45': 0.38863767385,\n",
       " 'f29': 0.25815973460384617,\n",
       " 'f83': 0.5336486659307693,\n",
       " 'f75': 0.227598252565,\n",
       " 'f91': 0.3284610590658334,\n",
       " 'f67': 0.6433501429499999,\n",
       " 'f47': 0.26064318972500006,\n",
       " 'f41': 0.4280653003,\n",
       " 'f59': 0.810039404972222,\n",
       " 'f39': 0.4451643000025002,\n",
       " 'f31': 0.2871811792727272,\n",
       " 'f19': 16.58735333901428,\n",
       " 'f71': 0.31637962943321435,\n",
       " 'f33': 0.3203880744375,\n",
       " 'f57': 0.29745414040625007,\n",
       " 'f70': 0.20257697581875,\n",
       " 'f48': 0.6282850655,\n",
       " 'f89': 0.265144423075,\n",
       " 'f65': 0.5957371192375,\n",
       " 'f55': 0.5513462274285715,\n",
       " 'f53': 0.42732608299999997,\n",
       " 'f23': 0.36617632114375,\n",
       " 'f64': 0.18167039277857142,\n",
       " 'f77': 0.22734722106111105,\n",
       " 'f78': 0.431910485,\n",
       " 'f87': 0.14338387367222222,\n",
       " 'f74': 0.43238728249999997,\n",
       " 'f96': 0.265784368}"
      ]
     },
     "execution_count": 24,
     "metadata": {},
     "output_type": "execute_result"
    }
   ],
   "source": [
    "bst.get_score(importance_type='gain')"
   ]
  },
  {
   "cell_type": "code",
   "execution_count": null,
   "metadata": {},
   "outputs": [],
   "source": []
  }
 ],
 "metadata": {
  "kernelspec": {
   "display_name": "Python 3",
   "language": "python",
   "name": "python3"
  },
  "language_info": {
   "codemirror_mode": {
    "name": "ipython",
    "version": 3
   },
   "file_extension": ".py",
   "mimetype": "text/x-python",
   "name": "python",
   "nbconvert_exporter": "python",
   "pygments_lexer": "ipython3",
   "version": "3.8.5"
  }
 },
 "nbformat": 4,
 "nbformat_minor": 4
}
