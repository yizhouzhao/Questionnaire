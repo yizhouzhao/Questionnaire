{
 "cells": [
  {
   "cell_type": "code",
   "execution_count": null,
   "metadata": {},
   "outputs": [],
   "source": [
    "from datasets import list_datasets, load_dataset"
   ]
  },
  {
   "cell_type": "code",
   "execution_count": null,
   "metadata": {},
   "outputs": [],
   "source": [
    "datasets_list = list_datasets()"
   ]
  },
  {
   "cell_type": "code",
   "execution_count": null,
   "metadata": {},
   "outputs": [],
   "source": [
    "datasets_list"
   ]
  },
  {
   "cell_type": "code",
   "execution_count": null,
   "metadata": {},
   "outputs": [],
   "source": [
    "# IMDB Yelp-2 Yelp-5 DBpedia AG Amazon-2 Amazon-5\n",
    "dataset_name_list = [\"imdb\", \"dbpedia_14\", \"ag_news\", \"amazon_polarity\", \"yelp_polarity\"]\n",
    "other_dataset_name_list = [\"rotten_tomatoes\"]"
   ]
  },
  {
   "cell_type": "code",
   "execution_count": null,
   "metadata": {
    "scrolled": false
   },
   "outputs": [],
   "source": [
    "dataset = load_dataset('ag_news', split='train')"
   ]
  },
  {
   "cell_type": "code",
   "execution_count": null,
   "metadata": {},
   "outputs": [],
   "source": [
    "print(dataset[-300])"
   ]
  },
  {
   "cell_type": "code",
   "execution_count": null,
   "metadata": {},
   "outputs": [],
   "source": [
    "set([item[\"label\"] for item in dataset])"
   ]
  },
  {
   "cell_type": "code",
   "execution_count": null,
   "metadata": {},
   "outputs": [],
   "source": [
    "%load_ext autoreload"
   ]
  },
  {
   "cell_type": "code",
   "execution_count": 5,
   "metadata": {},
   "outputs": [],
   "source": [
    "from design.datasets import *"
   ]
  },
  {
   "cell_type": "code",
   "execution_count": 6,
   "metadata": {},
   "outputs": [
    {
     "name": "stderr",
     "output_type": "stream",
     "text": [
      "Using custom data configuration default\n",
      "Reusing dataset ag_news (C:\\Users\\Yizhou Zhao\\.cache\\huggingface\\datasets\\ag_news\\default\\0.0.0\\fb5c5e74a110037311ef5e904583ce9f8b9fbc1354290f97b4929f01b3f48b1a)\n"
     ]
    },
    {
     "data": {
      "application/vnd.jupyter.widget-view+json": {
       "model_id": "2a52ec3fe0b7413a9e18340d6a62c21f",
       "version_major": 2,
       "version_minor": 0
      },
      "text/plain": [
       "HBox(children=(FloatProgress(value=0.0, max=120000.0), HTML(value='')))"
      ]
     },
     "metadata": {},
     "output_type": "display_data"
    },
    {
     "name": "stdout",
     "output_type": "stream",
     "text": [
      "\n",
      "load model......\n"
     ]
    },
    {
     "name": "stderr",
     "output_type": "stream",
     "text": [
      "Some weights of the model checkpoint at allenai/unifiedqa-t5-large were not used when initializing T5ForConditionalGeneration: ['decoder.block.0.layer.1.EncDecAttention.relative_attention_bias.weight']\n",
      "- This IS expected if you are initializing T5ForConditionalGeneration from the checkpoint of a model trained on another task or with another architecture (e.g. initializing a BertForSequenceClassification model from a BertForPreTraining model).\n",
      "- This IS NOT expected if you are initializing T5ForConditionalGeneration from the checkpoint of a model that you expect to be exactly identical (initializing a BertForSequenceClassification model from a BertForSequenceClassification model).\n"
     ]
    }
   ],
   "source": [
    "QAM = QAMachine(\"design/questions.csv\", \"ag_news\")"
   ]
  },
  {
   "cell_type": "code",
   "execution_count": 7,
   "metadata": {},
   "outputs": [
    {
     "data": {
      "text/plain": [
       "[['what is the sentiment of the text?', '(a) positive (b) negative '],\n",
       " ['is the text informative?', '(a) yes (b) no '],\n",
       " ['is the text interesting?', '(a) yes (b) no '],\n",
       " ['do you feel any anger from the text?', '(a) yes (b) no '],\n",
       " ['do you feel any joy from the text?', '(a) yes (b) no '],\n",
       " ['do you feel any worry from the text?', '(a) yes (b) no '],\n",
       " ['do you feel any sadness from the text?', '(a) yes (b) no '],\n",
       " ['is the writting style of the text formal or informal?',\n",
       "  '(a) formal (b) informal '],\n",
       " ['is the text narrative?', '(a) yes (b) no '],\n",
       " ['is the text analytical?', '(a) yes (b) no '],\n",
       " ['is the text expository?', '(a) yes (b) no '],\n",
       " ['is the text persuasive?', '(a) yes (b) no '],\n",
       " ['is the text argumentative?', '(a) yes (b) no '],\n",
       " ['is there any prediction in the text?', '(a) yes (b) no '],\n",
       " ['does it tell something happened in the past?', '(a) yes (b) no '],\n",
       " ['does it tell something happening currently?', '(a) yes (b) no '],\n",
       " ['is there any question or doubt in the text?', '(a) yes (b) no '],\n",
       " ['is there any hypothesis or assumption in the text?', '(a) yes (b) no '],\n",
       " ['is there any statement or claim in the text?', '(a) yes (b) no ']]"
      ]
     },
     "execution_count": 7,
     "metadata": {},
     "output_type": "execute_result"
    }
   ],
   "source": [
    "QAM.question_collection.question_answer_list"
   ]
  },
  {
   "cell_type": "code",
   "execution_count": 31,
   "metadata": {},
   "outputs": [
    {
     "data": {
      "text/plain": [
       "120000"
      ]
     },
     "execution_count": 31,
     "metadata": {},
     "output_type": "execute_result"
    }
   ],
   "source": [
    "len(QAM.dataset)"
   ]
  },
  {
   "cell_type": "code",
   "execution_count": 52,
   "metadata": {},
   "outputs": [],
   "source": [
    "qid = np.random.randint(10)"
   ]
  },
  {
   "cell_type": "code",
   "execution_count": 53,
   "metadata": {},
   "outputs": [],
   "source": [
    "text = generate_unifiedqa_text(QAM.question_collection.question_answer_list[qid][0], \n",
    "                            QAM.question_collection.question_answer_list[qid][1], \n",
    "                            QAM.dataset[np.random.randint(1000)]['text'])"
   ]
  },
  {
   "cell_type": "code",
   "execution_count": 54,
   "metadata": {},
   "outputs": [
    {
     "data": {
      "text/plain": [
       "\"is the text informative? \\n (a) yes (b) no  \\n News: New Study to Investigate Demise of Coral Reef Ecosystems Scientists are embarking on a project which will explore how global warming is devastating one of the world's most diverse ecosystems, coral reefs. (University of Newcastle press release)\""
      ]
     },
     "execution_count": 54,
     "metadata": {},
     "output_type": "execute_result"
    }
   ],
   "source": [
    "text"
   ]
  },
  {
   "cell_type": "code",
   "execution_count": 57,
   "metadata": {},
   "outputs": [
    {
     "data": {
      "text/plain": [
       "['<pad> yes</s>']"
      ]
     },
     "execution_count": 57,
     "metadata": {},
     "output_type": "execute_result"
    }
   ],
   "source": [
    "QAM.run_model(\"is the text related to climate? \\n (a) yes (b) no  \\n News: New Study to Investigate Demise of Coral Reef Ecosystems Scientists are embarking on a project which will explore how global warming is devastating one of the world's most diverse ecosystems, coral reefs. (University of Newcastle press release)\")"
   ]
  },
  {
   "cell_type": "code",
   "execution_count": null,
   "metadata": {},
   "outputs": [],
   "source": []
  }
 ],
 "metadata": {
  "kernelspec": {
   "display_name": "Python 3",
   "language": "python",
   "name": "python3"
  },
  "language_info": {
   "codemirror_mode": {
    "name": "ipython",
    "version": 3
   },
   "file_extension": ".py",
   "mimetype": "text/x-python",
   "name": "python",
   "nbconvert_exporter": "python",
   "pygments_lexer": "ipython3",
   "version": "3.8.5"
  }
 },
 "nbformat": 4,
 "nbformat_minor": 4
}
