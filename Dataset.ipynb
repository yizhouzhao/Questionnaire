{
 "cells": [
  {
   "cell_type": "code",
   "execution_count": 1,
   "metadata": {},
   "outputs": [],
   "source": [
    "# from datasets import list_datasets, load_dataset\n",
    "\n",
    "# datasets_list = list_datasets()\n",
    "\n",
    "# datasets_list\n",
    "\n",
    "# # IMDB Yelp-2 Yelp-5 DBpedia AG Amazon-2 Amazon-5\n",
    "# dataset_name_list = [\"imdb\", \"dbpedia_14\", \"ag_news\", \"amazon_polarity\", \"yelp_polarity\"]\n",
    "# other_dataset_name_list = [\"rotten_tomatoes\"]\n",
    "\n",
    "# dataset = load_dataset('ag_news', split='train')\n",
    "\n",
    "# print(dataset[-300])\n",
    "\n",
    "# set([item[\"label\"] for item in dataset])\n",
    "\n",
    "# %load_ext autoreload"
   ]
  },
  {
   "cell_type": "code",
   "execution_count": 2,
   "metadata": {},
   "outputs": [
    {
     "name": "stderr",
     "output_type": "stream",
     "text": [
      "D:\\Anaconda3\\envs\\Questionnaire\\lib\\site-packages\\fuzzywuzzy\\fuzz.py:11: UserWarning: Using slow pure-python SequenceMatcher. Install python-Levenshtein to remove this warning\n",
      "  warnings.warn('Using slow pure-python SequenceMatcher. Install python-Levenshtein to remove this warning')\n"
     ]
    }
   ],
   "source": [
    "from design.datasets import *"
   ]
  },
  {
   "cell_type": "code",
   "execution_count": 3,
   "metadata": {},
   "outputs": [
    {
     "name": "stderr",
     "output_type": "stream",
     "text": [
      "Using custom data configuration default\n",
      "Reusing dataset ag_news (C:\\Users\\Yizhou Zhao\\.cache\\huggingface\\datasets\\ag_news\\default\\0.0.0\\fb5c5e74a110037311ef5e904583ce9f8b9fbc1354290f97b4929f01b3f48b1a)\n"
     ]
    },
    {
     "data": {
      "application/vnd.jupyter.widget-view+json": {
       "model_id": "70b2d7ddb6d8475495dc9a8a3a863251",
       "version_major": 2,
       "version_minor": 0
      },
      "text/plain": [
       "HBox(children=(FloatProgress(value=0.0, max=120000.0), HTML(value='')))"
      ]
     },
     "metadata": {},
     "output_type": "display_data"
    },
    {
     "name": "stdout",
     "output_type": "stream",
     "text": [
      "\n",
      "load model......\n"
     ]
    },
    {
     "name": "stderr",
     "output_type": "stream",
     "text": [
      "Some weights of the model checkpoint at allenai/unifiedqa-t5-large were not used when initializing T5ForConditionalGeneration: ['decoder.block.0.layer.1.EncDecAttention.relative_attention_bias.weight']\n",
      "- This IS expected if you are initializing T5ForConditionalGeneration from the checkpoint of a model trained on another task or with another architecture (e.g. initializing a BertForSequenceClassification model from a BertForPreTraining model).\n",
      "- This IS NOT expected if you are initializing T5ForConditionalGeneration from the checkpoint of a model that you expect to be exactly identical (initializing a BertForSequenceClassification model from a BertForSequenceClassification model).\n"
     ]
    }
   ],
   "source": [
    "QAM = QAMachine(\"design/questions.csv\", \"ag_news\")"
   ]
  },
  {
   "cell_type": "code",
   "execution_count": 4,
   "metadata": {},
   "outputs": [
    {
     "data": {
      "text/plain": [
       "['what is the sentiment of the text?',\n",
       " 'is the text informative?',\n",
       " 'is the text interesting?',\n",
       " 'do you feel any anger from the text?',\n",
       " 'do you feel any joy from the text?',\n",
       " 'do you feel any worry from the text?',\n",
       " 'do you feel any sadness from the text?',\n",
       " 'is the writting style of the text formal or informal?',\n",
       " 'is the text narrative?',\n",
       " 'is the text analytical?',\n",
       " 'is the text expository?',\n",
       " 'is the text persuasive?',\n",
       " 'is the text argumentative?',\n",
       " 'is there any prediction in the text?',\n",
       " 'does it tell something happened in the past?',\n",
       " 'does it tell something happening currently?',\n",
       " 'is there any question or doubt in the text?',\n",
       " 'is there any hypothesis or assumption in the text?',\n",
       " 'is there any statement or claim in the text?']"
      ]
     },
     "execution_count": 4,
     "metadata": {},
     "output_type": "execute_result"
    }
   ],
   "source": [
    "QAM.question_collection.question_list"
   ]
  },
  {
   "cell_type": "code",
   "execution_count": 5,
   "metadata": {},
   "outputs": [
    {
     "data": {
      "text/plain": [
       "120000"
      ]
     },
     "execution_count": 5,
     "metadata": {},
     "output_type": "execute_result"
    }
   ],
   "source": [
    "len(QAM.dataset)"
   ]
  },
  {
   "cell_type": "code",
   "execution_count": null,
   "metadata": {
    "scrolled": true
   },
   "outputs": [
    {
     "data": {
      "application/vnd.jupyter.widget-view+json": {
       "model_id": "f7b1e2133fe04028986b6ea01df83947",
       "version_major": 2,
       "version_minor": 0
      },
      "text/plain": [
       "HBox(children=(FloatProgress(value=0.0, max=120000.0), HTML(value='')))"
      ]
     },
     "metadata": {},
     "output_type": "display_data"
    },
    {
     "name": "stdout",
     "output_type": "stream",
     "text": [
      "Datasets QAMachine conduct survey what is the sentiment of the text? \n",
      " (a) positive (b) negative  \n",
      " Wall St. Bears Claw Back Into the Black (Reuters) Reuters - Short-sellers, Wall Street's dwindling\\band of ultra-cynics, are seeing green again. <pad> positive</s> positive 0\n",
      "Datasets QAMachine conduct survey what is the sentiment of the text? \n",
      " (a) positive (b) negative  \n",
      " Carlyle Looks Toward Commercial Aerospace (Reuters) Reuters - Private investment firm Carlyle Group,\\which has a reputation for making well-timed and occasionally\\controversial plays in the defense industry, has quietly placed\\its bets on another part of the market. <pad> positive</s> positive 0\n",
      "Datasets QAMachine conduct survey what is the sentiment of the text? \n",
      " (a) positive (b) negative  \n",
      " Oil and Economy Cloud Stocks' Outlook (Reuters) Reuters - Soaring crude prices plus worries\\about the economy and the outlook for earnings are expected to\\hang over the stock market next week during the depth of the\\summer doldrums. <pad> negative</s> negative 1\n",
      "Datasets QAMachine conduct survey what is the sentiment of the text? \n",
      " (a) positive (b) negative  \n",
      " Iraq Halts Oil Exports from Main Southern Pipeline (Reuters) Reuters - Authorities have halted oil export\\flows from the main pipeline in southern Iraq after\\intelligence showed a rebel militia could strike\\infrastructure, an oil official said on Saturday. <pad> negative</s> negative 1\n",
      "Datasets QAMachine conduct survey what is the sentiment of the text? \n",
      " (a) positive (b) negative  \n",
      " Oil prices soar to all-time record, posing new menace to US economy (AFP) AFP - Tearaway world oil prices, toppling records and straining wallets, present a new economic menace barely three months before the US presidential elections. <pad> negative</s> negative 1\n",
      "Datasets QAMachine conduct survey what is the sentiment of the text? \n",
      " (a) positive (b) negative  \n",
      " Stocks End Up, But Near Year Lows (Reuters) Reuters - Stocks ended slightly higher on Friday\\but stayed near lows for the year as oil prices surged past  #36;46\\a barrel, offsetting a positive outlook from computer maker\\Dell Inc. (DELL.O) <pad> positive</s> positive 0\n",
      "Datasets QAMachine conduct survey what is the sentiment of the text? \n",
      " (a) positive (b) negative  \n",
      " Money Funds Fell in Latest Week (AP) AP - Assets of the nation's retail money market mutual funds fell by  #36;1.17 billion in the latest week to  #36;849.98 trillion, the Investment Company Institute said Thursday. <pad> negative</s> negative 1\n",
      "Datasets QAMachine conduct survey what is the sentiment of the text? \n",
      " (a) positive (b) negative  \n",
      " Fed minutes show dissent over inflation (USATODAY.com) USATODAY.com - Retail sales bounced back a bit in July, and new claims for jobless benefits fell last week, the government said Thursday, indicating the economy is improving from a midsummer slump. <pad> positive</s> positive 0\n"
     ]
    }
   ],
   "source": [
    "QAM.conduct_survey([0])"
   ]
  },
  {
   "cell_type": "code",
   "execution_count": null,
   "metadata": {},
   "outputs": [],
   "source": [
    "# text = generate_unifiedqa_text(QAM.question_collection.question_list[question_id], \n",
    "#                             QAM.question_collection.answer_list[question_id], \n",
    "#                             QAM.dataset[i]['text'])"
   ]
  },
  {
   "cell_type": "code",
   "execution_count": null,
   "metadata": {},
   "outputs": [],
   "source": []
  }
 ],
 "metadata": {
  "kernelspec": {
   "display_name": "Python 3",
   "language": "python",
   "name": "python3"
  },
  "language_info": {
   "codemirror_mode": {
    "name": "ipython",
    "version": 3
   },
   "file_extension": ".py",
   "mimetype": "text/x-python",
   "name": "python",
   "nbconvert_exporter": "python",
   "pygments_lexer": "ipython3",
   "version": "3.8.5"
  }
 },
 "nbformat": 4,
 "nbformat_minor": 4
}
